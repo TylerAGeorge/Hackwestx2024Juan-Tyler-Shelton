{
 "cells": [
  {
   "cell_type": "code",
   "execution_count": null,
   "id": "21149860",
   "metadata": {},
   "outputs": [],
   "source": [
    "import cv2\n",
    "import matplotlib.pyplot as plt\n",
    "\n",
    "# Initialize webcam\n",
    "video_capture = cv2.VideoCapture(0)\n",
    "\n",
    "# Capture a single frame from the webcam\n",
    "ret, frame = video_capture.read()\n",
    "\n",
    "# Convert image from BGR to RGB for displaying with matplotlib\n",
    "rgb_frame = cv2.cvtColor(frame, cv2.COLOR_BGR2RGB)\n",
    "\n",
    "# Display the captured image\n",
    "plt.imshow(rgb_frame)\n",
    "plt.axis('off')\n",
    "plt.show()\n",
    "\n",
    "# Release the webcam\n",
    "video_capture.release()"
   ]
  },
  {
   "cell_type": "code",
   "execution_count": null,
   "id": "abf773a0",
   "metadata": {},
   "outputs": [],
   "source": [
    "gray_frame = cv2.cvtColor(frame, cv2.COLOR_BGR2GRAY)\n",
    "plt.imshow(gray_frame, cmap='gray')\n",
    "plt.axis('off')\n",
    "plt.show()\n"
   ]
  },
  {
   "cell_type": "code",
   "execution_count": 4,
   "id": "802ee031",
   "metadata": {},
   "outputs": [],
   "source": [
    "resized_frame = cv2.resize(gray_frame, (300, 300))  # Resize image\n"
   ]
  },
  {
   "cell_type": "code",
   "execution_count": null,
   "id": "2f4776d6",
   "metadata": {},
   "outputs": [],
   "source": [
    "# Load the Haar Cascade for face detection\n",
    "face_cascade = cv2.CascadeClassifier(cv2.data.haarcascades + 'haarcascade_frontalface_default.xml')\n",
    "\n",
    "# Detect faces\n",
    "faces = face_cascade.detectMultiScale(gray_frame, scaleFactor=1.1, minNeighbors=5, minSize=(30, 30))\n",
    "\n",
    "# Draw rectangles around the detected faces\n",
    "for (x, y, w, h) in faces:\n",
    "    cv2.rectangle(rgb_frame, (x, y), (x + w, y + h), (255, 0, 0), 2)\n",
    "\n",
    "# Display the image with rectangles\n",
    "plt.imshow(rgb_frame)\n",
    "plt.axis('off')\n",
    "plt.show()\n"
   ]
  },
  {
   "cell_type": "code",
   "execution_count": null,
   "id": "b2a6e7e9",
   "metadata": {},
   "outputs": [],
   "source": [
    "import face_recognition\n",
    "\n",
    "# Find all face locations in the image\n",
    "face_locations = face_recognition.face_locations(rgb_frame)\n",
    "\n",
    "for (top, right, bottom, left) in face_locations:\n",
    "    cv2.rectangle(rgb_frame, (left, top), (right, bottom), (0, 255, 0), 2)\n",
    "\n",
    "plt.imshow(rgb_frame)\n",
    "plt.axis('off')\n",
    "plt.show()\n"
   ]
  },
  {
   "cell_type": "code",
   "execution_count": null,
   "id": "60521c5f",
   "metadata": {},
   "outputs": [],
   "source": [
    "face_counter = 0\n",
    "for (x, y, w, h) in faces:\n",
    "    face_img = frame[y:y+h, x:x+w]\n",
    "    face_img_rgb = cv2.cvtColor(face_img, cv2.COLOR_BGR2RGB)\n",
    "    plt.imshow(face_img_rgb)\n",
    "    plt.axis('off')\n",
    "    plt.show()\n",
    "    \n",
    "    # Save the face image\n",
    "    cv2.imwrite(f\"face_{face_counter}.jpg\", face_img)\n",
    "    face_counter += 1\n"
   ]
  },
  {
   "cell_type": "code",
   "execution_count": 1,
   "id": "029db6df",
   "metadata": {},
   "outputs": [
    {
     "name": "stdout",
     "output_type": "stream",
     "text": [
      "Found 10587 images belonging to 3 classes.\n",
      "Found 2646 images belonging to 3 classes.\n"
     ]
    }
   ],
   "source": [
    "from tensorflow.keras.preprocessing.image import ImageDataGenerator\n",
    "\n",
    "# Set the path to your dataset\n",
    "dataset_path = \"grouped_faces\"\n",
    "\n",
    "# Data augmentation generator for training data\n",
    "train_datagen = ImageDataGenerator(\n",
    "    rescale=1./255,\n",
    "    rotation_range=30,\n",
    "    width_shift_range=0.2,\n",
    "    height_shift_range=0.2,\n",
    "    shear_range=0.2,\n",
    "    zoom_range=0.3,  # Increase zoom range\n",
    "    horizontal_flip=True,\n",
    "    vertical_flip=True,  # Add vertical flip\n",
    "    fill_mode='nearest',\n",
    "    validation_split=0.2\n",
    ")\n",
    "\n",
    "# Load the training data with augmentation\n",
    "train_data = train_datagen.flow_from_directory(\n",
    "    dataset_path,\n",
    "    target_size=(224, 224),\n",
    "    batch_size=32,\n",
    "    class_mode='categorical',\n",
    "    subset='training'\n",
    ")\n",
    "\n",
    "# Load the validation data (no augmentation)\n",
    "val_datagen = ImageDataGenerator(rescale=1./255, validation_split=0.2)\n",
    "\n",
    "val_data = val_datagen.flow_from_directory(\n",
    "    dataset_path,\n",
    "    target_size=(224, 224),\n",
    "    batch_size=32,\n",
    "    class_mode='categorical',\n",
    "    subset='validation'\n",
    ")\n"
   ]
  },
  {
   "cell_type": "code",
   "execution_count": 8,
   "id": "7bbe5c24",
   "metadata": {},
   "outputs": [],
   "source": [
    "from tensorflow.keras.applications import VGG16\n",
    "from tensorflow.keras.models import Model\n",
    "from tensorflow.keras.layers import GlobalAveragePooling2D, Dense, Dropout\n",
    "\n",
    "# Load the pre-trained VGG16 model (without the top layers)\n",
    "base_model = VGG16(weights='imagenet', include_top=False, input_shape=(224, 224, 3))\n",
    "\n",
    "# Freeze most layers, unfreeze the last few layers to allow fine-tuning\n",
    "for layer in base_model.layers[:-10]:  # Freeze more layers\n",
    "    layer.trainable = False\n",
    "\n",
    "# Add custom classification layers on top\n",
    "x = base_model.output\n",
    "x = GlobalAveragePooling2D()(x)  # Global pooling\n",
    "x = Dense(64, activation='relu')(x)  # Fully connected layer\n",
    "x = Dropout(0.5)(x)  # Dropout for regularization\n",
    "predictions = Dense(3, activation='softmax')(x)  # 3 output categories\n",
    "\n",
    "# Final model\n",
    "model = Model(inputs=base_model.input, outputs=predictions)\n"
   ]
  },
  {
   "cell_type": "code",
   "execution_count": 9,
   "id": "b42ce359",
   "metadata": {},
   "outputs": [],
   "source": [
    "model.compile(optimizer='adam', loss='categorical_crossentropy', metrics=['accuracy'])\n"
   ]
  },
  {
   "cell_type": "code",
   "execution_count": null,
   "id": "0ffb85b9",
   "metadata": {},
   "outputs": [],
   "source": [
    "from tensorflow.keras.callbacks import EarlyStopping\n",
    "\n",
    "early_stopping = EarlyStopping(monitor='val_loss', patience=5, restore_best_weights=True)\n",
    "steps_per_epoch = train_data.samples // train_data.batch_size\n",
    "validation_steps = val_data.samples // val_data.batch_size\n",
    "\n",
    "history = model.fit(\n",
    "    train_data,\n",
    "    validation_data=val_data,\n",
    "    epochs=30,\n",
    "    callbacks=[early_stopping],\n",
    "    steps_per_epoch=steps_per_epoch,\n",
    "    validation_steps=validation_steps\n",
    ")\n"
   ]
  },
  {
   "cell_type": "code",
   "execution_count": 12,
   "id": "d4fda1d2",
   "metadata": {},
   "outputs": [
    {
     "name": "stderr",
     "output_type": "stream",
     "text": [
      "WARNING:absl:You are saving your model as an HDF5 file via `model.save()` or `keras.saving.save_model(model)`. This file format is considered legacy. We recommend using instead the native Keras format, e.g. `model.save('my_model.keras')` or `keras.saving.save_model(model, 'my_model.keras')`. \n"
     ]
    }
   ],
   "source": [
    "model.save('cowboy_classifier.h5')\n"
   ]
  },
  {
   "cell_type": "code",
   "execution_count": null,
   "id": "a52d0394",
   "metadata": {},
   "outputs": [],
   "source": []
  }
 ],
 "metadata": {
  "kernelspec": {
   "display_name": "Python 3 (ipykernel)",
   "language": "python",
   "name": "python3"
  },
  "language_info": {
   "codemirror_mode": {
    "name": "ipython",
    "version": 3
   },
   "file_extension": ".py",
   "mimetype": "text/x-python",
   "name": "python",
   "nbconvert_exporter": "python",
   "pygments_lexer": "ipython3",
   "version": "3.12.6"
  }
 },
 "nbformat": 4,
 "nbformat_minor": 5
}
